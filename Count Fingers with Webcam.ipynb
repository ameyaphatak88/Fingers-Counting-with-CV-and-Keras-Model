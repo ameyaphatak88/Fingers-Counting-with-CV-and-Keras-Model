{
 "cells": [
  {
   "cell_type": "code",
   "execution_count": null,
   "metadata": {},
   "outputs": [
    {
     "name": "stderr",
     "output_type": "stream",
     "text": [
      "Using TensorFlow backend.\n"
     ]
    },
    {
     "name": "stdout",
     "output_type": "stream",
     "text": [
      "Loaded model from disk\n"
     ]
    },
    {
     "data": {
      "text/html": [
       "<script>Jupyter.notebook.kernel.restart()</script>"
      ]
     },
     "metadata": {},
     "output_type": "display_data"
    }
   ],
   "source": [
    "from IPython.display import display_html\n",
    "import numpy as np\n",
    "import cv2\n",
    "from keras.models import model_from_json\n",
    "from keras.preprocessing import image\n",
    "\n",
    "#loading the model\n",
    "json_file = open('count_fingers.json', 'r')\n",
    "loaded_model_json = json_file.read()\n",
    "json_file.close()\n",
    "loaded_model = model_from_json(loaded_model_json)\n",
    "# load weights into new model\n",
    "loaded_model.load_weights(\"count_fingers.h5\")\n",
    "print(\"Loaded model from disk\")\n",
    "\n",
    "#defining the list of all the numbers in order which they are trained\n",
    "\n",
    "numbers = ['FIVE', 'FOUR', 'NONE', 'ONE', 'THREE', 'TWO']\n",
    "\n",
    "#Code to automatically restart the kernel\n",
    "def restartkernel() :\n",
    "    display_html(\"<script>Jupyter.notebook.kernel.restart()</script>\",raw=True)\n",
    "    \n",
    "#Turning on the camera for live feed\n",
    "\n",
    "cap = cv2.VideoCapture(0)\n",
    "while True:\n",
    "    _,frame = cap.read()\n",
    "    \n",
    "    #Converting the frame to Gray scale    \n",
    "    frame_gray = cv2.cvtColor(frame,cv2.COLOR_BGR2GRAY)\n",
    "    \n",
    "    #Drawing a rectangle for taking in the image in roi\n",
    "    cv2.rectangle(frame,(300,20),(100,300),(0,255,0),3)\n",
    " \n",
    "    #creating the roi\n",
    "    roi = frame_gray[20:300,100:300]  \n",
    "    #Resizing the image\n",
    "    roi = cv2.resize(roi,(64,64))\n",
    "    \n",
    "    #Processing the image before making the predictions from the model\n",
    "    blur = cv2.GaussianBlur(roi, (7,7), 3)\n",
    "    ad_thres = cv2.adaptiveThreshold(blur, 255, cv2.ADAPTIVE_THRESH_GAUSSIAN_C, cv2.THRESH_BINARY_INV, 11, 2)\n",
    "    ret, thres = cv2.threshold(ad_thres, 25, 255, cv2.THRESH_BINARY_INV + cv2.THRESH_OTSU)\n",
    "    \n",
    "    #Converting the image into array\n",
    "    image_array = image.img_to_array(thres)\n",
    "    \n",
    "    #Converting the image from (64,64,1) to (64,64,3)\n",
    "    image_array = cv2.cvtColor(image_array,cv2.COLOR_GRAY2BGR)\n",
    "    image_array = np.expand_dims(image_array,axis =0)\n",
    "    \n",
    "    #Making predictions with the model\n",
    "    predictions =loaded_model.predict(image_array)\n",
    "    \n",
    "    #Printing the predcitions on the screen\n",
    "    cv2.putText(frame,numbers[np.argmax(predictions)],(1,450), cv2.FONT_HERSHEY_SIMPLEX, 4,(255,255,255),2)\n",
    "    cv2.imshow('Frame',frame)\n",
    "    \n",
    "    k =cv2.waitKey(15)\n",
    "    if k ==27:\n",
    "        break\n",
    "cap.release()\n",
    "cv2.destroyAllWindows()\n",
    "restartkernel()"
   ]
  },
  {
   "cell_type": "code",
   "execution_count": null,
   "metadata": {},
   "outputs": [],
   "source": []
  }
 ],
 "metadata": {
  "kernelspec": {
   "display_name": "Python 3",
   "language": "python",
   "name": "python3"
  },
  "language_info": {
   "codemirror_mode": {
    "name": "ipython",
    "version": 3
   },
   "file_extension": ".py",
   "mimetype": "text/x-python",
   "name": "python",
   "nbconvert_exporter": "python",
   "pygments_lexer": "ipython3",
   "version": "3.6.7"
  }
 },
 "nbformat": 4,
 "nbformat_minor": 2
}
